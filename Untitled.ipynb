{
 "cells": [
  {
   "cell_type": "markdown",
   "id": "048d9890",
   "metadata": {},
   "source": [
    "# Trying to group again"
   ]
  },
  {
   "cell_type": "markdown",
   "id": "847c4066",
   "metadata": {},
   "source": [
    "## Setup"
   ]
  },
  {
   "cell_type": "code",
   "execution_count": 1,
   "id": "a78dbc67",
   "metadata": {},
   "outputs": [],
   "source": [
    "import pandas as pd"
   ]
  },
  {
   "cell_type": "code",
   "execution_count": 2,
   "id": "e0d50df8",
   "metadata": {},
   "outputs": [],
   "source": [
    "import os"
   ]
  },
  {
   "cell_type": "code",
   "execution_count": 3,
   "id": "cc29c8ba",
   "metadata": {},
   "outputs": [],
   "source": [
    "a330yearIn = os.path.join(\"output\", \"processed_data\", \"A330_year.csv\")\n",
    "a330year = pd.read_csv(a330yearIn)"
   ]
  },
  {
   "cell_type": "code",
   "execution_count": 4,
   "id": "a8052a4c",
   "metadata": {},
   "outputs": [
    {
     "data": {
      "text/html": [
       "<div>\n",
       "<style scoped>\n",
       "    .dataframe tbody tr th:only-of-type {\n",
       "        vertical-align: middle;\n",
       "    }\n",
       "\n",
       "    .dataframe tbody tr th {\n",
       "        vertical-align: top;\n",
       "    }\n",
       "\n",
       "    .dataframe thead th {\n",
       "        text-align: right;\n",
       "    }\n",
       "</style>\n",
       "<table border=\"1\" class=\"dataframe\">\n",
       "  <thead>\n",
       "    <tr style=\"text-align: right;\">\n",
       "      <th></th>\n",
       "      <th>c/n</th>\n",
       "      <th>f/f</th>\n",
       "      <th>operator</th>\n",
       "      <th>type</th>\n",
       "      <th>St</th>\n",
       "      <th>year</th>\n",
       "    </tr>\n",
       "  </thead>\n",
       "  <tbody>\n",
       "    <tr>\n",
       "      <th>0</th>\n",
       "      <td>30.0</td>\n",
       "      <td>1993-06-22</td>\n",
       "      <td>Air Inter</td>\n",
       "      <td>330</td>\n",
       "      <td>NaN</td>\n",
       "      <td>1993</td>\n",
       "    </tr>\n",
       "    <tr>\n",
       "      <th>1</th>\n",
       "      <td>37.0</td>\n",
       "      <td>1993-10-20</td>\n",
       "      <td>Air Inter</td>\n",
       "      <td>330</td>\n",
       "      <td>NaN</td>\n",
       "      <td>1993</td>\n",
       "    </tr>\n",
       "    <tr>\n",
       "      <th>2</th>\n",
       "      <td>45.0</td>\n",
       "      <td>1994-01-31</td>\n",
       "      <td>Air Inter</td>\n",
       "      <td>330</td>\n",
       "      <td>NaN</td>\n",
       "      <td>1994</td>\n",
       "    </tr>\n",
       "    <tr>\n",
       "      <th>3</th>\n",
       "      <td>50.0</td>\n",
       "      <td>1994-03-28</td>\n",
       "      <td>Thai AW Int</td>\n",
       "      <td>330</td>\n",
       "      <td>STD</td>\n",
       "      <td>1994</td>\n",
       "    </tr>\n",
       "    <tr>\n",
       "      <th>4</th>\n",
       "      <td>54.0</td>\n",
       "      <td>1994-02-24</td>\n",
       "      <td>Aer Lingus lsd</td>\n",
       "      <td>330</td>\n",
       "      <td>NaN</td>\n",
       "      <td>1994</td>\n",
       "    </tr>\n",
       "    <tr>\n",
       "      <th>...</th>\n",
       "      <td>...</td>\n",
       "      <td>...</td>\n",
       "      <td>...</td>\n",
       "      <td>...</td>\n",
       "      <td>...</td>\n",
       "      <td>...</td>\n",
       "    </tr>\n",
       "    <tr>\n",
       "      <th>1499</th>\n",
       "      <td>2019.0</td>\n",
       "      <td>2022-09-13</td>\n",
       "      <td>Virgin Atlantic</td>\n",
       "      <td>330</td>\n",
       "      <td>C</td>\n",
       "      <td>2022</td>\n",
       "    </tr>\n",
       "    <tr>\n",
       "      <th>1500</th>\n",
       "      <td>2020.0</td>\n",
       "      <td>2022-10-25</td>\n",
       "      <td>Air Greenland</td>\n",
       "      <td>330</td>\n",
       "      <td>C</td>\n",
       "      <td>2022</td>\n",
       "    </tr>\n",
       "    <tr>\n",
       "      <th>1501</th>\n",
       "      <td>2022.0</td>\n",
       "      <td>2022-10-17</td>\n",
       "      <td>French Air Force</td>\n",
       "      <td>330</td>\n",
       "      <td>C</td>\n",
       "      <td>2022</td>\n",
       "    </tr>\n",
       "    <tr>\n",
       "      <th>1502</th>\n",
       "      <td>2023.0</td>\n",
       "      <td>2022-11-10</td>\n",
       "      <td>United Arab Emirates AF</td>\n",
       "      <td>330</td>\n",
       "      <td>NaN</td>\n",
       "      <td>2022</td>\n",
       "    </tr>\n",
       "    <tr>\n",
       "      <th>1503</th>\n",
       "      <td>2024.0</td>\n",
       "      <td>2022-12-08</td>\n",
       "      <td>Condor</td>\n",
       "      <td>330</td>\n",
       "      <td>NaN</td>\n",
       "      <td>2022</td>\n",
       "    </tr>\n",
       "  </tbody>\n",
       "</table>\n",
       "<p>1504 rows × 6 columns</p>\n",
       "</div>"
      ],
      "text/plain": [
       "         c/n         f/f                 operator  type   St  year\n",
       "0       30.0  1993-06-22               Air Inter    330  NaN  1993\n",
       "1       37.0  1993-10-20               Air Inter    330  NaN  1993\n",
       "2       45.0  1994-01-31               Air Inter    330  NaN  1994\n",
       "3       50.0  1994-03-28             Thai AW Int    330  STD  1994\n",
       "4       54.0  1994-02-24           Aer Lingus lsd   330  NaN  1994\n",
       "...      ...         ...                      ...   ...  ...   ...\n",
       "1499  2019.0  2022-09-13          Virgin Atlantic   330    C  2022\n",
       "1500  2020.0  2022-10-25            Air Greenland   330    C  2022\n",
       "1501  2022.0  2022-10-17         French Air Force   330    C  2022\n",
       "1502  2023.0  2022-11-10  United Arab Emirates AF   330  NaN  2022\n",
       "1503  2024.0  2022-12-08                   Condor   330  NaN  2022\n",
       "\n",
       "[1504 rows x 6 columns]"
      ]
     },
     "execution_count": 4,
     "metadata": {},
     "output_type": "execute_result"
    }
   ],
   "source": [
    "a330year"
   ]
  },
  {
   "cell_type": "code",
   "execution_count": 13,
   "id": "902006ea",
   "metadata": {},
   "outputs": [
    {
     "name": "stdout",
     "output_type": "stream",
     "text": [
      "year\n",
      "1993      2\n",
      "1994     14\n",
      "1995     26\n",
      "1996      7\n",
      "1997     17\n",
      "1998     21\n",
      "1999     46\n",
      "2000     41\n",
      "2001     33\n",
      "2002     41\n",
      "2003     31\n",
      "2004     44\n",
      "2005     57\n",
      "2006     63\n",
      "2007     63\n",
      "2008     74\n",
      "2009     81\n",
      "2010     76\n",
      "2011     85\n",
      "2012     89\n",
      "2013    104\n",
      "2014     98\n",
      "2015     97\n",
      "2016     64\n",
      "2017     67\n",
      "2018     49\n",
      "2019     52\n",
      "2020     20\n",
      "2021     19\n",
      "2022     23\n",
      "dtype: int64\n"
     ]
    }
   ],
   "source": [
    "group330 = a330year.groupby('year').size()\n",
    "\n",
    "print(group330)"
   ]
  },
  {
   "cell_type": "code",
   "execution_count": 14,
   "id": "37752c4c",
   "metadata": {},
   "outputs": [],
   "source": [
    "outfile = os.path.join(\".\", \"a330year_count_test.csv\")\n",
    "group330.to_csv(outfile)"
   ]
  },
  {
   "cell_type": "code",
   "execution_count": null,
   "id": "7dc12107",
   "metadata": {},
   "outputs": [],
   "source": []
  }
 ],
 "metadata": {
  "kernelspec": {
   "display_name": "Python 3 (ipykernel)",
   "language": "python",
   "name": "python3"
  },
  "language_info": {
   "codemirror_mode": {
    "name": "ipython",
    "version": 3
   },
   "file_extension": ".py",
   "mimetype": "text/x-python",
   "name": "python",
   "nbconvert_exporter": "python",
   "pygments_lexer": "ipython3",
   "version": "3.11.1"
  }
 },
 "nbformat": 4,
 "nbformat_minor": 5
}
